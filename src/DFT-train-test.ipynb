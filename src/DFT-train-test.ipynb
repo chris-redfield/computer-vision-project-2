{
 "cells": [
  {
   "cell_type": "code",
   "execution_count": 1,
   "metadata": {},
   "outputs": [],
   "source": [
    "import cv2\n",
    "import numpy as np\n",
    "import os\n",
    "import radialProfile\n",
    "import glob\n",
    "from matplotlib import pyplot as plt\n",
    "import pickle\n",
    "from scipy.interpolate import griddata\n",
    "from sklearn.model_selection import train_test_split\n",
    "from sklearn.metrics import classification_report, plot_confusion_matrix"
   ]
  },
  {
   "cell_type": "markdown",
   "metadata": {},
   "source": [
    "### 1. Using DFT + Azimuthal Average Create features"
   ]
  },
  {
   "cell_type": "code",
   "execution_count": 2,
   "metadata": {},
   "outputs": [
    {
     "name": "stdout",
     "output_type": "stream",
     "text": [
      "data/fake/\n",
      "processing file data/real/bwhlgysghg.mp4-f150.jpg\n",
      "processing file data/real/avmjormvsx.mp4-f150.jpg\n",
      "processing file data/real/ecujsjhscd.mp4-f200.jpg\n",
      "processing file data/real/dhxctgyoqj.mp4-f100.jpg\n",
      "processing file data/real/afoovlsmtx.mp4-f80.jpg\n",
      "processing file data/real/ajqslcypsw.mp4-f150.jpg\n",
      "processing file data/real/ckjaibzfxa.mp4-f200.jpg\n",
      "processing file data/real/eqnoqyfquo.mp4-f80.jpg\n",
      "processing file data/real/duycddgtrl.mp4-f100.jpg\n",
      "processing file data/real/dbtbbhakdv.mp4-f100.jpg\n",
      "processing file data/real/eqnoqyfquo.mp4-f150.jpg\n",
      "processing file data/real/cprhtltsjp.mp4-f200.jpg\n",
      "processing file data/real/afoovlsmtx.mp4-f150.jpg\n",
      "processing file data/real/caifxvsozs.mp4-f100.jpg\n",
      "processing file data/real/atkdltyyen.mp4-f100.jpg\n",
      "processing file data/real/eckvhdusax.mp4-f80.jpg\n",
      "processing file data/real/bwipwzzxxu.mp4-f200.jpg\n",
      "processing file data/real/bmjzrlszhi.mp4-f80.jpg\n",
      "processing file data/real/ckjaibzfxa.mp4-f80.jpg\n",
      "processing file data/real/drcyabprvt.mp4-f200.jpg\n",
      "processing file data/real/bzythlfnhq.mp4-f200.jpg\n",
      "processing file data/real/cyxlcuyznd.mp4-f100.jpg\n",
      "processing file data/real/ciyoudyhly.mp4-f150.jpg\n",
      "processing file data/real/ccfoszqabv.mp4-f80.jpg\n",
      "processing file data/real/bpapbctoao.mp4-f200.jpg\n",
      "processing file data/real/ccfoszqabv.mp4-f200.jpg\n",
      "processing file data/real/bdnaqemxmr.mp4-f150.jpg\n",
      "processing file data/real/bpapbctoao.mp4-f100.jpg\n",
      "processing file data/real/efwfxwwlbw.mp4-f150.jpg\n",
      "processing file data/real/bwipwzzxxu.mp4-f100.jpg\n",
      "processing file data/real/bzythlfnhq.mp4-f100.jpg\n",
      "processing file data/real/dbtbbhakdv.mp4-f200.jpg\n",
      "processing file data/real/ddepeddixj.mp4-f200.jpg\n",
      "processing file data/real/crezycjqyk.mp4-f100.jpg\n",
      "processing file data/real/cobjrlugvp.mp4-f150.jpg\n",
      "processing file data/real/agrmhtjdlk.mp4-f150.jpg\n",
      "processing file data/real/beyebyhrph.mp4-f80.jpg\n",
      "processing file data/real/abarnvbtwb.mp4-f150.jpg\n",
      "processing file data/real/chtapglbcj.mp4-f100.jpg\n",
      "processing file data/real/cpjxareypw.mp4-f80.jpg\n",
      "processing file data/real/clrycekyst.mp4-f150.jpg\n",
      "processing file data/real/bilnggbxgu.mp4-f200.jpg\n",
      "processing file data/real/efwfxwwlbw.mp4-f200.jpg\n",
      "processing file data/real/crezycjqyk.mp4-f200.jpg\n",
      "processing file data/real/drcyabprvt.mp4-f80.jpg\n",
      "processing file data/real/ckjaibzfxa.mp4-f100.jpg\n",
      "processing file data/real/bxzakyopjf.mp4-f100.jpg\n",
      "processing file data/real/djxdyjopjd.mp4-f150.jpg\n",
      "processing file data/real/cprhtltsjp.mp4-f80.jpg\n",
      "processing file data/real/atvmxvwyns.mp4-f150.jpg\n",
      "processing file data/real/abarnvbtwb.mp4-f100.jpg\n",
      "processing file data/real/ciyoudyhly.mp4-f200.jpg\n",
      "processing file data/real/drcyabprvt.mp4-f100.jpg\n",
      "processing file data/real/bxzakyopjf.mp4-f80.jpg\n",
      "processing file data/real/bejhvclboh.mp4-f100.jpg\n",
      "processing file data/real/aytzyidmgs.mp4-f100.jpg\n",
      "processing file data/real/cfxkpiweqt.mp4-f80.jpg\n",
      "processing file data/real/cppdvdejkc.mp4-f200.jpg\n",
      "processing file data/real/ecujsjhscd.mp4-f100.jpg\n",
      "processing file data/real/bmjzrlszhi.mp4-f100.jpg\n",
      "processing file data/real/aybumesmpk.mp4-f200.jpg\n",
      "processing file data/real/bffwsjxghk.mp4-f80.jpg\n",
      "processing file data/real/agrmhtjdlk.mp4-f200.jpg\n",
      "processing file data/real/beyebyhrph.mp4-f200.jpg\n",
      "processing file data/real/bddjdhzfze.mp4-f100.jpg\n",
      "processing file data/real/cobjrlugvp.mp4-f200.jpg\n",
      "processing file data/real/cizlkenljw.mp4-f100.jpg\n",
      "processing file data/real/chtapglbcj.mp4-f150.jpg\n",
      "processing file data/real/bwipwzzxxu.mp4-f150.jpg\n",
      "processing file data/real/ahqqqilsxt.mp4-f200.jpg\n",
      "processing file data/real/chtapglbcj.mp4-f80.jpg\n",
      "processing file data/real/ddepeddixj.mp4-f150.jpg\n",
      "processing file data/real/atkdltyyen.mp4-f80.jpg\n",
      "processing file data/real/dsjbknkujw.mp4-f150.jpg\n",
      "processing file data/real/dbnygxtwek.mp4-f100.jpg\n",
      "processing file data/real/cmbzllswnl.mp4-f200.jpg\n",
      "processing file data/real/bddjdhzfze.mp4-f200.jpg\n",
      "processing file data/real/bwipwzzxxu.mp4-f80.jpg\n",
      "processing file data/real/cfxkpiweqt.mp4-f100.jpg\n",
      "processing file data/real/bulkxhhknf.mp4-f200.jpg\n",
      "processing file data/real/aybumesmpk.mp4-f100.jpg\n",
      "processing file data/real/beboztfcme.mp4-f100.jpg\n",
      "processing file data/real/asaxgevnnp.mp4-f100.jpg\n",
      "processing file data/real/caifxvsozs.mp4-f200.jpg\n",
      "processing file data/real/atkdltyyen.mp4-f150.jpg\n",
      "processing file data/real/bxzakyopjf.mp4-f150.jpg\n",
      "processing file data/real/ellavthztb.mp4-f100.jpg\n",
      "processing file data/real/cpjxareypw.mp4-f150.jpg\n",
      "processing file data/real/bdnaqemxmr.mp4-f80.jpg\n",
      "processing file data/real/ddepeddixj.mp4-f80.jpg\n",
      "processing file data/real/aybumesmpk.mp4-f150.jpg\n",
      "processing file data/real/dkuayagnmc.mp4-f150.jpg\n",
      "processing file data/real/cpjxareypw.mp4-f100.jpg\n",
      "processing file data/real/asaxgevnnp.mp4-f150.jpg\n",
      "processing file data/real/bgwmmujlmc.mp4-f80.jpg\n",
      "processing file data/real/ehtdtkmmli.mp4-f80.jpg\n",
      "processing file data/real/djxdyjopjd.mp4-f200.jpg\n",
      "processing file data/real/ecujsjhscd.mp4-f80.jpg\n",
      "processing file data/real/cmbzllswnl.mp4-f80.jpg\n",
      "processing file data/real/bffwsjxghk.mp4-f150.jpg\n",
      "processing file data/real/erlvuvjsjf.mp4-f100.jpg\n",
      "processing file data/real/eckvhdusax.mp4-f100.jpg\n",
      "processing file data/real/ahqqqilsxt.mp4-f80.jpg\n",
      "processing file data/real/ehccixxzoe.mp4-f150.jpg\n",
      "processing file data/real/eckvhdusax.mp4-f150.jpg\n",
      "processing file data/real/duycddgtrl.mp4-f200.jpg\n",
      "processing file data/real/bxzakyopjf.mp4-f200.jpg\n",
      "processing file data/real/eckvhdusax.mp4-f200.jpg\n",
      "processing file data/real/bwhlgysghg.mp4-f80.jpg\n",
      "processing file data/real/bulkxhhknf.mp4-f150.jpg\n",
      "processing file data/real/ccfoszqabv.mp4-f100.jpg\n",
      "processing file data/real/ajqslcypsw.mp4-f80.jpg\n",
      "processing file data/real/erlvuvjsjf.mp4-f80.jpg\n",
      "processing file data/real/ciyoudyhly.mp4-f80.jpg\n",
      "processing file data/real/beyebyhrph.mp4-f100.jpg\n",
      "processing file data/real/aelfnikyqj.mp4-f100.jpg\n",
      "processing file data/real/egghxjjmfg.mp4-f100.jpg\n",
      "processing file data/real/asaxgevnnp.mp4-f80.jpg\n",
      "processing file data/real/ckkuyewywx.mp4-f200.jpg\n",
      "processing file data/real/bmjzrlszhi.mp4-f200.jpg\n",
      "processing file data/real/dbnygxtwek.mp4-f150.jpg\n",
      "processing file data/real/bffwsjxghk.mp4-f100.jpg\n",
      "processing file data/real/bulkxhhknf.mp4-f80.jpg\n",
      "processing file data/real/caifxvsozs.mp4-f150.jpg\n",
      "processing file data/real/bpapbctoao.mp4-f150.jpg\n",
      "processing file data/real/egghxjjmfg.mp4-f80.jpg\n",
      "processing file data/real/beboztfcme.mp4-f150.jpg\n",
      "processing file data/real/dlpoieqvfb.mp4-f100.jpg\n",
      "processing file data/real/dbtbbhakdv.mp4-f150.jpg\n",
      "processing file data/real/bddjdhzfze.mp4-f150.jpg\n",
      "processing file data/real/dzyuwjkjui.mp4-f200.jpg\n",
      "processing file data/real/djxdyjopjd.mp4-f100.jpg\n",
      "processing file data/real/crezycjqyk.mp4-f80.jpg\n",
      "processing file data/real/cfxkpiweqt.mp4-f150.jpg\n",
      "processing file data/real/bilnggbxgu.mp4-f100.jpg\n",
      "processing file data/real/bgwmmujlmc.mp4-f200.jpg\n",
      "processing file data/real/atkdltyyen.mp4-f200.jpg\n",
      "processing file data/real/dbnygxtwek.mp4-f80.jpg\n",
      "processing file data/real/bffwsjxghk.mp4-f200.jpg\n",
      "processing file data/real/bgwmmujlmc.mp4-f150.jpg\n",
      "processing file data/real/dhxctgyoqj.mp4-f80.jpg\n",
      "processing file data/real/crezycjqyk.mp4-f150.jpg\n",
      "processing file data/real/aytzyidmgs.mp4-f80.jpg\n",
      "processing file data/real/bgwmmujlmc.mp4-f100.jpg\n",
      "processing file data/real/bddjdhzfze.mp4-f80.jpg\n",
      "processing file data/real/cprhtltsjp.mp4-f150.jpg\n",
      "processing file data/real/bzythlfnhq.mp4-f80.jpg\n",
      "processing file data/real/bpapbctoao.mp4-f80.jpg\n",
      "processing file data/real/djxdyjopjd.mp4-f80.jpg\n",
      "processing file data/real/abarnvbtwb.mp4-f80.jpg\n",
      "processing file data/real/asaxgevnnp.mp4-f200.jpg\n",
      "processing file data/real/dsjbknkujw.mp4-f80.jpg\n",
      "processing file data/real/dakiztgtnw.mp4-f150.jpg\n",
      "processing file data/real/dakiztgtnw.mp4-f100.jpg\n",
      "processing file data/real/eqnoqyfquo.mp4-f100.jpg\n",
      "processing file data/real/ckjaibzfxa.mp4-f150.jpg\n",
      "processing file data/real/aybgughjxh.mp4-f200.jpg\n",
      "processing file data/real/dzyuwjkjui.mp4-f80.jpg\n",
      "processing file data/real/dzyuwjkjui.mp4-f150.jpg\n",
      "processing file data/real/beboztfcme.mp4-f80.jpg\n",
      "processing file data/real/dzyuwjkjui.mp4-f100.jpg\n",
      "processing file data/real/duycddgtrl.mp4-f150.jpg\n",
      "processing file data/real/cpjxareypw.mp4-f200.jpg\n",
      "processing file data/real/cmbzllswnl.mp4-f100.jpg\n",
      "processing file data/real/bdnaqemxmr.mp4-f200.jpg\n",
      "processing file data/real/atvmxvwyns.mp4-f200.jpg\n",
      "processing file data/real/ehtdtkmmli.mp4-f150.jpg\n",
      "processing file data/real/bwhlgysghg.mp4-f200.jpg\n",
      "processing file data/real/ecujsjhscd.mp4-f150.jpg\n",
      "processing file data/real/aytzyidmgs.mp4-f200.jpg\n",
      "processing file data/real/clrycekyst.mp4-f100.jpg\n",
      "processing file data/real/cppdvdejkc.mp4-f150.jpg\n",
      "processing file data/real/dlpoieqvfb.mp4-f150.jpg\n"
     ]
    },
    {
     "name": "stdout",
     "output_type": "stream",
     "text": [
      "processing file data/real/efwfxwwlbw.mp4-f80.jpg\n",
      "processing file data/real/cizlkenljw.mp4-f80.jpg\n",
      "processing file data/real/brwrlczjvi.mp4-f100.jpg\n",
      "processing file data/real/bilnggbxgu.mp4-f80.jpg\n",
      "processing file data/real/dbtbbhakdv.mp4-f80.jpg\n",
      "processing file data/real/ajqslcypsw.mp4-f100.jpg\n",
      "processing file data/real/drcyabprvt.mp4-f150.jpg\n",
      "processing file data/real/bmjzrlszhi.mp4-f150.jpg\n",
      "processing file data/real/aybumesmpk.mp4-f80.jpg\n",
      "processing file data/real/brwrlczjvi.mp4-f200.jpg\n",
      "processing file data/real/beboztfcme.mp4-f200.jpg\n",
      "processing file data/real/dakiztgtnw.mp4-f80.jpg\n",
      "processing file data/real/anpuvshzoo.mp4-f150.jpg\n",
      "processing file data/real/dlpoieqvfb.mp4-f80.jpg\n",
      "processing file data/real/dhxctgyoqj.mp4-f150.jpg\n",
      "processing file data/real/dkuayagnmc.mp4-f80.jpg\n",
      "processing file data/real/cyxlcuyznd.mp4-f200.jpg\n",
      "processing file data/real/dbnygxtwek.mp4-f200.jpg\n",
      "processing file data/real/erlvuvjsjf.mp4-f200.jpg\n",
      "processing file data/real/afoovlsmtx.mp4-f100.jpg\n",
      "processing file data/real/dsjbknkujw.mp4-f200.jpg\n",
      "processing file data/real/efwfxwwlbw.mp4-f100.jpg\n",
      "processing file data/real/atvmxvwyns.mp4-f100.jpg\n",
      "processing file data/real/atvmxvwyns.mp4-f80.jpg\n",
      "processing file data/real/abarnvbtwb.mp4-f200.jpg\n",
      "processing file data/real/cprhtltsjp.mp4-f100.jpg\n",
      "processing file data/real/bwhlgysghg.mp4-f100.jpg\n",
      "processing file data/real/dakiztgtnw.mp4-f200.jpg\n",
      "processing file data/real/bejhvclboh.mp4-f80.jpg\n",
      "processing file data/real/bilnggbxgu.mp4-f150.jpg\n",
      "DATA Saved\n"
     ]
    }
   ],
   "source": [
    "\n",
    "\n",
    "data= {}\n",
    "epsilon = 1e-8\n",
    "N = 300\n",
    "y = []\n",
    "error = []\n",
    "\n",
    "number_fake = 918\n",
    "number_real = 203\n",
    "\n",
    "psd1D_total = np.zeros([number_fake, N])\n",
    "label_total = np.zeros([number_fake])\n",
    "psd1D_org_mean = np.zeros(N)\n",
    "psd1D_org_std = np.zeros(N)\n",
    "\n",
    "\n",
    "cont = 0\n",
    "\n",
    "#fake data\n",
    "rootdir = 'data/fake/'\n",
    "print(rootdir)\n",
    "\n",
    "for subdir, dirs, files in os.walk(rootdir):\n",
    "    for file in files:        \n",
    "\n",
    "        filename = os.path.join(subdir, file)\n",
    "        \n",
    "        img = cv2.imread(filename,0)\n",
    "        \n",
    "        h = int(img.shape[0]/3)\n",
    "        w = int(img.shape[1]/3)\n",
    "        img = img[h:-h,w:-w]\n",
    "\n",
    "        f = np.fft.fft2(img)\n",
    "        fshift = np.fft.fftshift(f)\n",
    "\n",
    "        magnitude_spectrum = 20*np.log(np.abs(fshift))\n",
    "        psd1D = radialProfile.azimuthalAverage(magnitude_spectrum)\n",
    "\n",
    "        # Calculate the azimuthally averaged 1D power spectrum\n",
    "        points = np.linspace(0,N,num=psd1D.size) # coordinates of a\n",
    "        xi = np.linspace(0,N,num=N) # coordinates for interpolation\n",
    "\n",
    "        interpolated = griddata(points,psd1D,xi,method='cubic')\n",
    "        interpolated /= interpolated[0]\n",
    "\n",
    "        psd1D_total[cont,:] = interpolated             \n",
    "        label_total[cont] = 0\n",
    "        cont+=1\n",
    "\n",
    "        if cont == number_fake:\n",
    "            break\n",
    "    if cont == number_fake:\n",
    "        break\n",
    "            \n",
    "for x in range(N):\n",
    "    psd1D_org_mean[x] = np.mean(psd1D_total[:,x])\n",
    "    psd1D_org_std[x]= np.std(psd1D_total[:,x])\n",
    "\n",
    "\n",
    "## real data\n",
    "psd1D_total2 = np.zeros([number_real, N])\n",
    "label_total2 = np.zeros([number_real])\n",
    "psd1D_org_mean2 = np.zeros(N)\n",
    "psd1D_org_std2 = np.zeros(N)\n",
    "\n",
    "\n",
    "cont = 0\n",
    "rootdir2 = 'data/real/'\n",
    "\n",
    "for subdir, dirs, files in os.walk(rootdir2):\n",
    "    for file in files:        \n",
    "\n",
    "        filename = os.path.join(subdir, file)\n",
    "        \n",
    "        print(\"processing file\", filename)\n",
    "        \n",
    "        parts = filename.split(\"/\")\n",
    "   \n",
    "        img = cv2.imread(filename,0)\n",
    "\n",
    "\n",
    "        f = np.fft.fft2(img)\n",
    "        fshift = np.fft.fftshift(f)\n",
    "        fshift += epsilon\n",
    "\n",
    "\n",
    "        magnitude_spectrum = 20*np.log(np.abs(fshift))\n",
    "\n",
    "        # Calculate the azimuthally averaged 1D power spectrum\n",
    "        psd1D = radialProfile.azimuthalAverage(magnitude_spectrum)\n",
    "\n",
    "        points = np.linspace(0,N,num=psd1D.size) # coordinates of a\n",
    "        xi = np.linspace(0,N,num=N) # coordinates for interpolation\n",
    "\n",
    "        interpolated = griddata(points,psd1D,xi,method='cubic')\n",
    "        interpolated /= interpolated[0]\n",
    "\n",
    "        psd1D_total2[cont,:] = interpolated             \n",
    "        label_total2[cont] = 1\n",
    "        cont+=1\n",
    "\n",
    "        if cont == number_real:\n",
    "            break\n",
    "    if cont == number_real:\n",
    "        break\n",
    "\n",
    "for x in range(N):\n",
    "    psd1D_org_mean2[x] = np.mean(psd1D_total2[:,x])\n",
    "    psd1D_org_std2[x]= np.std(psd1D_total2[:,x])\n",
    "    \n",
    "    \n",
    "y.append(psd1D_org_mean)\n",
    "y.append(psd1D_org_mean2)\n",
    "\n",
    "error.append(psd1D_org_std)\n",
    "error.append(psd1D_org_std2)\n",
    "\n",
    "psd1D_total_final = np.concatenate((psd1D_total,psd1D_total2), axis=0)\n",
    "label_total_final = np.concatenate((label_total,label_total2), axis=0)\n",
    "\n",
    "data[\"data\"] = psd1D_total_final\n",
    "data[\"label\"] = label_total_final\n",
    "\n",
    "output = open('train_3200.pkl', 'wb')\n",
    "pickle.dump(data, output)\n",
    "output.close()\n",
    "\n",
    "print(\"DATA Saved\") "
   ]
  },
  {
   "cell_type": "code",
   "execution_count": 3,
   "metadata": {},
   "outputs": [
    {
     "data": {
      "text/plain": [
       "918"
      ]
     },
     "execution_count": 3,
     "metadata": {},
     "output_type": "execute_result"
    }
   ],
   "source": [
    "len(psd1D_total)"
   ]
  },
  {
   "cell_type": "markdown",
   "metadata": {},
   "source": [
    "### 2. Re-loading Features"
   ]
  },
  {
   "cell_type": "code",
   "execution_count": 4,
   "metadata": {},
   "outputs": [],
   "source": [
    "import numpy as np\n",
    "import matplotlib.pyplot as plt\n",
    "import pickle\n",
    "\n",
    "# load feature file\n",
    "pkl_file = open('train_3200.pkl', 'rb')\n",
    "data = pickle.load(pkl_file)\n",
    "pkl_file.close()\n",
    "X = data[\"data\"]\n",
    "y = data[\"label\"]"
   ]
  },
  {
   "cell_type": "code",
   "execution_count": 5,
   "metadata": {},
   "outputs": [
    {
     "data": {
      "text/plain": [
       "1121"
      ]
     },
     "execution_count": 5,
     "metadata": {},
     "output_type": "execute_result"
    }
   ],
   "source": [
    "len(y)"
   ]
  },
  {
   "cell_type": "markdown",
   "metadata": {},
   "source": [
    "### 3. Check class imbalance"
   ]
  },
  {
   "cell_type": "code",
   "execution_count": 6,
   "metadata": {},
   "outputs": [
    {
     "data": {
      "image/png": "[encoded data removed]",
      "text/plain": [
       "<Figure size 432x288 with 1 Axes>"
      ]
     },
     "metadata": {
      "needs_background": "light"
     },
     "output_type": "display_data"
    }
   ],
   "source": [
    "plt.plot(y);"
   ]
  },
  {
   "cell_type": "code",
   "execution_count": 7,
   "metadata": {},
   "outputs": [
    {
     "data": {
      "text/plain": [
       "(918, 204)"
      ]
     },
     "execution_count": 7,
     "metadata": {},
     "output_type": "execute_result"
    }
   ],
   "source": [
    "counter_0 = 0\n",
    "counter_1 = 1\n",
    "for value in y:\n",
    "    if value==0:\n",
    "        counter_0 +=1\n",
    "    else:\n",
    "        counter_1 +=1\n",
    "\n",
    "counter_0, counter_1"
   ]
  },
  {
   "cell_type": "markdown",
   "metadata": {},
   "source": [
    "### Plot power spectrum vs Spatial frequency, check if the classes look different "
   ]
  },
  {
   "cell_type": "code",
   "execution_count": 8,
   "metadata": {},
   "outputs": [
    {
     "data": {
      "text/plain": [
       "Text(0, 0.5, 'Power Spectrum')"
      ]
     },
     "execution_count": 8,
     "metadata": {},
     "output_type": "execute_result"
    },
    {
     "data": {
      "image/png": "[encoded data removed]",
      "text/plain": [
       "<Figure size 1080x648 with 1 Axes>"
      ]
     },
     "metadata": {
      "needs_background": "light"
     },
     "output_type": "display_data"
    }
   ],
   "source": [
    "\n",
    "num_feat = X.shape[1]\n",
    "\n",
    "psd1D_org_0 = np.zeros((counter_0,num_feat))\n",
    "psd1D_org_1 = np.zeros((counter_1,num_feat))\n",
    "psd1D_org_0_mean = np.zeros(num_feat)\n",
    "psd1D_org_0_std = np.zeros(num_feat)\n",
    "psd1D_org_1_mean = np.zeros(num_feat)\n",
    "psd1D_org_1_std = np.zeros(num_feat)\n",
    "\n",
    "cont_0=0\n",
    "cont_1=0\n",
    "\n",
    "# We separate real and fake using the label\n",
    "for x in range(X.shape[0]):\n",
    "#for x in range(num):\n",
    "    if y[x]==0:\n",
    "        psd1D_org_0[cont_0,:] = X[x,:]\n",
    "        cont_0+=1\n",
    "    elif y[x]==1:\n",
    "        psd1D_org_1[cont_1,:] = X[x,:]\n",
    "        cont_1+=1\n",
    "\n",
    "\n",
    "for x in range(num_feat):\n",
    "    psd1D_org_0_mean[x] = np.mean(psd1D_org_0[:,x])\n",
    "    psd1D_org_0_std[x]= np.std(psd1D_org_0[:,x])\n",
    "    psd1D_org_1_mean[x] = np.mean(psd1D_org_1[:,x])\n",
    "    psd1D_org_1_std[x]= np.std(psd1D_org_1[:,x])\n",
    "    \n",
    "# Plot\n",
    "x = np.arange(0, num_feat, 1)\n",
    "fig, ax = plt.subplots(figsize=(15, 9))\n",
    "ax.plot(x, psd1D_org_0_mean, alpha=0.5, color='red', label='Fake', linewidth =2.0)\n",
    "ax.fill_between(x, psd1D_org_0_mean - psd1D_org_0_std, psd1D_org_0_mean + psd1D_org_0_std, color='red', alpha=0.2)\n",
    "ax.plot(x, psd1D_org_1_mean, alpha=0.5, color='blue', label='Real', linewidth =2.0)\n",
    "ax.fill_between(x, psd1D_org_1_mean - psd1D_org_1_std, psd1D_org_1_mean + psd1D_org_1_std, color='blue', alpha=0.2)\n",
    "plt.tick_params(axis='x', labelsize=20)\n",
    "plt.tick_params(axis='y', labelsize=20)\n",
    "ax.legend(loc='best', prop={'size': 20})\n",
    "plt.xlabel(\"Spatial Frequency\", fontsize=20)\n",
    "plt.ylabel(\"Power Spectrum\", fontsize=20)"
   ]
  },
  {
   "cell_type": "markdown",
   "metadata": {},
   "source": [
    "### 4. Split Dataset"
   ]
  },
  {
   "cell_type": "code",
   "execution_count": 9,
   "metadata": {},
   "outputs": [
    {
     "data": {
      "text/plain": [
       "((896, 300), (225, 300), (896,), (225,))"
      ]
     },
     "execution_count": 9,
     "metadata": {},
     "output_type": "execute_result"
    }
   ],
   "source": [
    "import numpy as np\n",
    "from sklearn.svm import SVC\n",
    "from sklearn.linear_model import LogisticRegression\n",
    "from sklearn.ensemble import RandomForestClassifier\n",
    "import pickle\n",
    "\n",
    "#its called train but its actually the entire dataset\n",
    "pkl_file = open('train_3200.pkl', 'rb')\n",
    "data = pickle.load(pkl_file)\n",
    "pkl_file.close()\n",
    "X = data[\"data\"]\n",
    "y = data[\"label\"]\n",
    "\n",
    "X_train, X_test, y_train, y_test = train_test_split(X, y, test_size=0.2, random_state=42)\n",
    "\n",
    "X_train.shape, X_test.shape, y_train.shape, y_test.shape"
   ]
  },
  {
   "cell_type": "markdown",
   "metadata": {},
   "source": [
    "### 5. Classification + Results"
   ]
  },
  {
   "cell_type": "code",
   "execution_count": 10,
   "metadata": {},
   "outputs": [
    {
     "data": {
      "text/plain": [
       "RandomForestClassifier()"
      ]
     },
     "execution_count": 10,
     "metadata": {},
     "output_type": "execute_result"
    }
   ],
   "source": [
    "svclassifier_r = SVC(C=6.37, kernel='rbf', gamma=0.86)\n",
    "svclassifier_r.fit(X_train, y_train)\n",
    "\n",
    "logreg = LogisticRegression(solver='liblinear', max_iter=1000)\n",
    "logreg.fit(X_train, y_train)\n",
    "\n",
    "rf = RandomForestClassifier()\n",
    "rf.fit(X_train, y_train)"
   ]
  },
  {
   "cell_type": "markdown",
   "metadata": {},
   "source": [
    "#### SVM Results"
   ]
  },
  {
   "cell_type": "code",
   "execution_count": 11,
   "metadata": {},
   "outputs": [
    {
     "name": "stdout",
     "output_type": "stream",
     "text": [
      "              precision    recall  f1-score   support\n",
      "\n",
      "         0.0       0.85      1.00      0.92       189\n",
      "         1.0       1.00      0.06      0.11        36\n",
      "\n",
      "    accuracy                           0.85       225\n",
      "   macro avg       0.92      0.53      0.51       225\n",
      "weighted avg       0.87      0.85      0.79       225\n",
      "\n"
     ]
    }
   ],
   "source": [
    "# SVM\n",
    "print(classification_report(y_test, svclassifier_r.predict(X_test)))"
   ]
  },
  {
   "cell_type": "code",
   "execution_count": 12,
   "metadata": {},
   "outputs": [
    {
     "data": {
      "image/png": "[encoded data removed]",
      "text/plain": [
       "<Figure size 432x288 with 2 Axes>"
      ]
     },
     "metadata": {
      "needs_background": "light"
     },
     "output_type": "display_data"
    }
   ],
   "source": [
    "plot_confusion_matrix(svclassifier_r, X_test, y_test );"
   ]
  },
  {
   "cell_type": "markdown",
   "metadata": {},
   "source": [
    "#### LR results"
   ]
  },
  {
   "cell_type": "code",
   "execution_count": 13,
   "metadata": {},
   "outputs": [
    {
     "name": "stdout",
     "output_type": "stream",
     "text": [
      "              precision    recall  f1-score   support\n",
      "\n",
      "         0.0       0.84      1.00      0.91       189\n",
      "         1.0       0.00      0.00      0.00        36\n",
      "\n",
      "    accuracy                           0.84       225\n",
      "   macro avg       0.42      0.50      0.46       225\n",
      "weighted avg       0.71      0.84      0.77       225\n",
      "\n"
     ]
    },
    {
     "name": "stderr",
     "output_type": "stream",
     "text": [
      "/home/user/anaconda3/envs/opencv/lib/python3.6/site-packages/sklearn/metrics/_classification.py:1245: UndefinedMetricWarning: Precision and F-score are ill-defined and being set to 0.0 in labels with no predicted samples. Use `zero_division` parameter to control this behavior.\n",
      "  _warn_prf(average, modifier, msg_start, len(result))\n",
      "/home/user/anaconda3/envs/opencv/lib/python3.6/site-packages/sklearn/metrics/_classification.py:1245: UndefinedMetricWarning: Precision and F-score are ill-defined and being set to 0.0 in labels with no predicted samples. Use `zero_division` parameter to control this behavior.\n",
      "  _warn_prf(average, modifier, msg_start, len(result))\n",
      "/home/user/anaconda3/envs/opencv/lib/python3.6/site-packages/sklearn/metrics/_classification.py:1245: UndefinedMetricWarning: Precision and F-score are ill-defined and being set to 0.0 in labels with no predicted samples. Use `zero_division` parameter to control this behavior.\n",
      "  _warn_prf(average, modifier, msg_start, len(result))\n"
     ]
    }
   ],
   "source": [
    "# LR\n",
    "print(classification_report(y_test, logreg.predict(X_test)))"
   ]
  },
  {
   "cell_type": "code",
   "execution_count": 14,
   "metadata": {},
   "outputs": [
    {
     "data": {
      "image/png": "[encoded data removed]",
      "text/plain": [
       "<Figure size 432x288 with 2 Axes>"
      ]
     },
     "metadata": {
      "needs_background": "light"
     },
     "output_type": "display_data"
    }
   ],
   "source": [
    "plot_confusion_matrix(logreg, X_test, y_test );"
   ]
  },
  {
   "cell_type": "markdown",
   "metadata": {},
   "source": [
    "#### RF results"
   ]
  },
  {
   "cell_type": "code",
   "execution_count": 15,
   "metadata": {},
   "outputs": [
    {
     "name": "stdout",
     "output_type": "stream",
     "text": [
      "              precision    recall  f1-score   support\n",
      "\n",
      "         0.0       0.84      0.98      0.91       189\n",
      "         1.0       0.33      0.06      0.10        36\n",
      "\n",
      "    accuracy                           0.83       225\n",
      "   macro avg       0.59      0.52      0.50       225\n",
      "weighted avg       0.76      0.83      0.78       225\n",
      "\n"
     ]
    }
   ],
   "source": [
    "# Random Forest\n",
    "print(classification_report(y_test, rf.predict(X_test)))"
   ]
  },
  {
   "cell_type": "code",
   "execution_count": 16,
   "metadata": {},
   "outputs": [
    {
     "data": {
      "image/png": "[encoded data removed]",
      "text/plain": [
       "<Figure size 432x288 with 2 Axes>"
      ]
     },
     "metadata": {
      "needs_background": "light"
     },
     "output_type": "display_data"
    }
   ],
   "source": [
    "plot_confusion_matrix(rf, X_test, y_test );"
   ]
  },
  {
   "cell_type": "code",
   "execution_count": null,
   "metadata": {},
   "outputs": [],
   "source": []
  }
 ],
 "metadata": {
  "kernelspec": {
   "display_name": "Python 3",
   "language": "python",
   "name": "python3"
  },
  "language_info": {
   "codemirror_mode": {
    "name": "ipython",
    "version": 3
   },
   "file_extension": ".py",
   "mimetype": "text/x-python",
   "name": "python",
   "nbconvert_exporter": "python",
   "pygments_lexer": "ipython3",
   "version": "3.6.13"
  }
 },
 "nbformat": 4,
 "nbformat_minor": 4
}
